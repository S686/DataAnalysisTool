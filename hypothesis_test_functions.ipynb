{
 "cells": [
  {
   "cell_type": "code",
   "execution_count": null,
   "metadata": {
    "id": "eX9tUbr0sXrp"
   },
   "outputs": [],
   "source": [
    "import pandas as pd\n",
    "import numpy as np\n",
    "# 시각화 한글폰트 설정\n",
    "import seaborn as sns\n",
    "import matplotlib.pyplot as plt\n",
    "import scipy.stats as spst\n",
    "from statsmodels.graphics.mosaicplot import mosaic\n",
    "\n",
    "plt.rc('font', family='Malgun Gothic')\n",
    "sns.set(font=\"Malgun Gothic\",#\"NanumGothicCoding\", \n",
    "        rc={\"axes.unicode_minus\":False}, # 마이너스 부호 깨짐 현상 해결\n",
    "        style='darkgrid')"
   ]
  },
  {
   "cell_type": "code",
   "execution_count": null,
   "metadata": {
    "id": "Kw7yL51JmUi1",
    "tags": [
     "dataAnalystTool"
    ]
   },
   "outputs": [],
   "source": [
    "def num_num(x, y, data):\n",
    "    \n",
    "    plt.figure(figsize=(12,8))\n",
    "    sns.scatterplot(x=x, y=y, data=data)\n",
    "    plt.grid()\n",
    "    plt.show()\n",
    "\n",
    "    result = spst.pearsonr(data[x], data[y])\n",
    "    print(f'상관계수 : {result[0]}')\n",
    "    print(f'p_value : {result[1]}')\n",
    "\n",
    "    flag = '양'\n",
    "    if result[1] < 0.05:\n",
    "        if result[0] < 0:\n",
    "            flag = '음'\n",
    "\n",
    "        if abs(result[0]) >= 0.5:\n",
    "            print(f'{x}와 {y}는 {flag}의 강한 상관관계를 가진다')\n",
    "        elif abs(result[0]) >= 0.3:\n",
    "            print(f'{x}와 {y}는 {flag}의 적당한 상관관계를 가진다')\n",
    "        else:\n",
    "            print(f'{x}와 {y}는 {flag}의 약한 상관관계를 가진다')\n",
    "\n",
    "\n",
    "def num_cat(x, y, data):\n",
    "    plt.subplot(2,1,1)\n",
    "    sns.kdeplot(x=x, data=data, hue = y, common_norm=False)\n",
    "    plt.grid()\n",
    "    plt.subplot(2,1,2)\n",
    "    sns.kdeplot(x=x, data=data, hue = y, multiple = 'fill')\n",
    "    plt.grid()\n",
    "    plt.tight_layout()\n",
    "    plt.show()\n",
    "\n",
    "\n",
    "def cat_num(x, y, data):\n",
    "    sns.barplot(x=x, y=y, data=data)\n",
    "    plt.grid()\n",
    "    plt.show()\n",
    "\n",
    "    categories = [cat for cat in data[x].unique()]\n",
    "\n",
    "    lst = []\n",
    "    for value in categories:\n",
    "        lst.append(data.loc[data[x]== value, y])\n",
    "    \n",
    "    if len(categories) == 2:\n",
    "        print('T 검정 결과는')\n",
    "        result = spst.ttest_ind(*lst)\n",
    "        \n",
    "        if result[1] > 0.05:\n",
    "            print(f'p-value가 0.05를 초과합니다 p-value : {result[1]}')\n",
    "            print('범주별 평균이 차이가 없습니다')\n",
    "        else:\n",
    "            print(f't 통계량 값은 : {result[0]}')\n",
    "            print(f'p-vaule 값은 : {result[1]}')\n",
    "        \n",
    "    elif len(categories) > 2:\n",
    "        print('ANOVA 결과는')\n",
    "        #display(spst.f_oneway(*lst))\n",
    "        result = spst.f_oneway(*lst)\n",
    "        if result[1] > 0.05:\n",
    "            print(f'p-value가 0.05를 초과합니다 p-value : {result[1]}')\n",
    "            print('범주별 평균이 차이가 없습니다')\n",
    "        else:\n",
    "            print(f'F 통계량 값은 : {result[0]}')\n",
    "            print(f'p-vaule 값은 : {result[1]}')\n",
    "    else:\n",
    "        print('오류발생, 범주의 수가 2개 미만입니다.')\n",
    "\n",
    "def cat_cat(x, y, data):\n",
    "    pd.crosstab(data[x], data[y], normalize='all')\n",
    "    mosaic(data, [x, y])\n",
    "    plt.axhline(data[y].mean(), color = 'r')\n",
    "    plt.grid()\n",
    "    plt.show()\n",
    "\n",
    "    table = pd.crosstab(data[x], data[y])\n",
    "    result = spst.chi2_contingency(table)\n",
    "    print('카이제곱통계량', result[0])\n",
    "    print('p-value', result[1])\n",
    "    print('기대빈도\\n',result[3])"
   ]
  },
  {
   "cell_type": "code",
   "execution_count": null,
   "metadata": {
    "id": "daDG6dEHrCGx"
   },
   "outputs": [],
   "source": [
    "# 단변량 분석\n",
    "\n",
    "def eda1_n(var, data, bins=20):\n",
    "\n",
    "    display(data[[var]].describe().T)\n",
    "\n",
    "    plt.figure(figsize=(15,10))\n",
    "\n",
    "    plt.subplot(2,1,1)\n",
    "    sns.histplot(x=var, data=data, bins=bins, kde = True)\n",
    "\n",
    "    plt.subplot(2,1,2)\n",
    "    sns.boxplot(x = var, data = data)\n",
    "    plt.grid()\n",
    "    plt.show\n",
    "\n",
    "def eda1_c(var, data):\n",
    "    sns.countplot(x=var, data=data)\n",
    "    plt.grid()\n",
    "    plt.show()"
   ]
  },
  {
   "cell_type": "code",
   "execution_count": null,
   "metadata": {},
   "outputs": [],
   "source": [
    "def num_uniV(x, data, bins=20): # 숫자형 단변량, x - 변수, data - 데이터, bins - 구간의 갯수 (optional)\n",
    "    plt.figure(figsize=(10,5))\n",
    "    plt.subplot(2,1,1)\n",
    "    plt.hist(data[x], bins = bins, edgecolor = 'gray') \n",
    "    plt.xlabel(x)\n",
    "    plt.ylabel('Frequency')\n",
    "    plt.grid()\n",
    "\n",
    "    plt.subplot(2,1,2)\n",
    "    sns.kdeplot(data[x])\n",
    "    plt.grid()\n",
    "    plt.show()\n",
    "    \n",
    "    plt.figure(figsize=(12,8))\n",
    "    plt.subplot(2,1,1)\n",
    "    sns.histplot(data[x], kde=True)\n",
    "    plt.xlabel(x)\n",
    "    plt.ylabel('Frequency')\n",
    "    plt.grid()\n",
    "    \n",
    "    plt.subplot(2,1,2)\n",
    "    plt.boxplot(data[x])\n",
    "    plt.grid()\n",
    "    plt.xlabel(x)\n",
    "    plt.tight_layout()\n",
    "    plt.show()\n",
    "\n",
    "def cat_uniV(x, data): # 범주형 단변량 x = 변수, data = 데이터\n",
    "    sns.countplot(x=x, data=data)\n",
    "    plt.grid()\n",
    "    plt.show()"
   ]
  },
  {
   "cell_type": "code",
   "execution_count": null,
   "metadata": {},
   "outputs": [],
   "source": [
    "## 시계열 데이터가 있을 때, 결측치를 선형적으로 채워주는 code, \n",
    "\n",
    "#시계열 데이터가 따로 없을 경우, 열 값에 따라 선형적으로 채움.\n",
    "df = df.interpolate() # method='linear' 가 기본값\n",
    "\n",
    "#시계열 데이터가 있을 경우, 시계열에 따라 선형적으로 채움.\n",
    "df['date'] = pd.to_datetime(df['date']) # 시계열 데이터로 변환\n",
    "df.set_index('date', inplace=True) # 시계열 데이터를 인덱스로 변환\n",
    "df = df.interpolate(method='time')\n",
    "df.reset_index(inplace=True) # 시계열 데이터와 인덱스 분리\n",
    "\n",
    "#pytimekr을 쓰면 공휴일을 알아낼 수 있다."
   ]
  }
 ],
 "metadata": {
  "colab": {
   "provenance": []
  },
  "kernelspec": {
   "display_name": "Python 3",
   "language": "python",
   "name": "python3"
  },
  "language_info": {
   "codemirror_mode": {
    "name": "ipython",
    "version": 3
   },
   "file_extension": ".py",
   "mimetype": "text/x-python",
   "name": "python",
   "nbconvert_exporter": "python",
   "pygments_lexer": "ipython3",
   "version": "3.10.9"
  },
  "vscode": {
   "interpreter": {
    "hash": "afb734500600fd355917ca529030176ea0ca205570884b88f2f6f7d791fd3fbe"
   }
  }
 },
 "nbformat": 4,
 "nbformat_minor": 1
}
